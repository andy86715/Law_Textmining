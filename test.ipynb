{
 "cells": [
  {
   "cell_type": "code",
   "execution_count": 11,
   "metadata": {
    "collapsed": true
   },
   "outputs": [],
   "source": [
    "import re\n",
    "string = \"\"\"\n",
    "規定請求離婚為有理由，已如前述，則就該條第  2 項部分\n",
    "    ，即無再予審酌之必要，在此敘明。\n",
    "（三）按夫妻之一方，因判決離婚而受有損害者，得向有過失之\n",
    "      他方請求賠償，前項情形，雖非財產上之損害，受害人亦\n",
    "      得請求賠償相當之金額，但以受害人無過失者為限，民法\n",
    "      第 1056 條第 1、2 項定有明文。本件被告有多次毆打原\n",
    "      告之行為，致原告持續處於家庭暴力之恐懼中，本件原告\n",
    "      因遭被告不堪同居之虐待，經本院判決准予離婚，已如前\n",
    "      述，此顯因可歸責於被告之原因而判決離婚，原告本人則\n",
    "      無過失，故原告依前揭法律明文規定，請求被告賠償非財\n",
    "      產上損失，自屬有據。本院審酌上開原告所受不堪同居虐\n",
    "      待之痛苦等情，認原告請求非財產上損害賠償 20 萬元為\n",
    "      適當，應予准許。\n",
    "四、進而，原告依民法第1052條第1 項第3 款之規定請求與被告\n",
    "    離婚、並依民法第 1056 條之規定請求被告賠償 20 萬元為\n",
    "    有理由，應予准許。本件判決所命給付之金額未逾 50 萬元\n",
    "    ，應依民事訴訟法第 389 條第 1 項規定依職權宣告假執行\n",
    "    。\n",
    "五、據上論結：本件原告之訴為有理由，依民事訴訟法第78條、\n",
    "    第389條第1項，判決如主文。\n",
    "中    華    民    國    100    年  8      月  10      日\n",
    "                    家事庭      法  官  彭南元\n",
    "以上正本係照原本作成。\n",
    "如對本判決上訴，須於判決送達後20日之不變期間內，向本院提\n",
    "出上訴狀。\n",
    "中    華    民    國    100    年  8      月  10      日\n",
    "                                書記官  尹遜言\n",
    "第1052條第1 項第5 款\n",
    "\"\"\""
   ]
  },
  {
   "cell_type": "code",
   "execution_count": 12,
   "metadata": {
    "collapsed": true
   },
   "outputs": [],
   "source": [
    "string = string.replace(\" \",\"\")"
   ]
  },
  {
   "cell_type": "code",
   "execution_count": 3,
   "metadata": {
    "collapsed": false
   },
   "outputs": [
    {
     "data": {
      "text/plain": [
       "'\\n規定請求離婚為有理由，已如前述，則就該條第2項部分\\n，即無再予審酌之必要，在此敘明。\\n（三）按夫妻之一方，因判決離婚而受有損害者，得向有過失之\\n他方請求賠償，前項情形，雖非財產上之損害，受害人亦\\n得請求賠償相當之金額，但以受害人無過失者為限，民法\\n第1056條第1、2項定有明文。本件被告有多次毆打原\\n告之行為，致原告持續處於家庭暴力之恐懼中，本件原告\\n因遭被告不堪同居之虐待，經本院判決准予離婚，已如前\\n述，此顯因可歸責於被告之原因而判決離婚，原告本人則\\n無過失，故原告依前揭法律明文規定，請求被告賠償非財\\n產上損失，自屬有據。本院審酌上開原告所受不堪同居虐\\n待之痛苦等情，認原告請求非財產上損害賠償20萬元為\\n適當，應予准許。\\n四、進而，原告依民法第1052條第1項第3款之規定請求與被告\\n離婚、並依民法第1056條之規定請求被告賠償20萬元為\\n有理由，應予准許。本件判決所命給付之金額未逾50萬元\\n，應依民事訴訟法第389條第1項規定依職權宣告假執行\\n。\\n五、據上論結：本件原告之訴為有理由，依民事訴訟法第78條、\\n第389條第1項，判決如主文。\\n中華民國100年8月10日\\n家事庭法官彭南元\\n以上正本係照原本作成。\\n如對本判決上訴，須於判決送達後20日之不變期間內，向本院提\\n出上訴狀。\\n中華民國100年8月10日\\n書記官尹遜言\\n'"
      ]
     },
     "execution_count": 3,
     "metadata": {},
     "output_type": "execute_result"
    }
   ],
   "source": [
    "string"
   ]
  },
  {
   "cell_type": "code",
   "execution_count": 13,
   "metadata": {
    "collapsed": true
   },
   "outputs": [],
   "source": [
    "regex = re.compile('民法第1052條第1項第\\d款')\n",
    "match = regex.search(string)"
   ]
  },
  {
   "cell_type": "code",
   "execution_count": 15,
   "metadata": {
    "collapsed": false
   },
   "outputs": [
    {
     "data": {
      "text/plain": [
       "<_sre.SRE_Match object; span=(325, 339), match='民法第1052條第1項第3款'>"
      ]
     },
     "execution_count": 15,
     "metadata": {},
     "output_type": "execute_result"
    }
   ],
   "source": [
    "match"
   ]
  },
  {
   "cell_type": "code",
   "execution_count": null,
   "metadata": {
    "collapsed": true
   },
   "outputs": [],
   "source": []
  }
 ],
 "metadata": {
  "kernelspec": {
   "display_name": "Python 3",
   "language": "python",
   "name": "python3"
  },
  "language_info": {
   "codemirror_mode": {
    "name": "ipython",
    "version": 3
   },
   "file_extension": ".py",
   "mimetype": "text/x-python",
   "name": "python",
   "nbconvert_exporter": "python",
   "pygments_lexer": "ipython3",
   "version": "3.6.0"
  }
 },
 "nbformat": 4,
 "nbformat_minor": 2
}
