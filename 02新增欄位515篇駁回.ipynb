{
 "cells": [
  {
   "cell_type": "code",
   "execution_count": 2,
   "metadata": {
    "collapsed": false
   },
   "outputs": [],
   "source": [
    "import pandas as pd\n",
    "df = pd.read_excel(\"data/law_清理過2.xlsx\")"
   ]
  },
  {
   "cell_type": "code",
   "execution_count": 3,
   "metadata": {
    "collapsed": false
   },
   "outputs": [
    {
     "data": {
      "text/html": [
       "<div>\n",
       "<style scoped>\n",
       "    .dataframe tbody tr th:only-of-type {\n",
       "        vertical-align: middle;\n",
       "    }\n",
       "\n",
       "    .dataframe tbody tr th {\n",
       "        vertical-align: top;\n",
       "    }\n",
       "\n",
       "    .dataframe thead th {\n",
       "        text-align: right;\n",
       "    }\n",
       "</style>\n",
       "<table border=\"1\" class=\"dataframe\">\n",
       "  <thead>\n",
       "    <tr style=\"text-align: right;\">\n",
       "      <th></th>\n",
       "      <th>Id</th>\n",
       "      <th>court</th>\n",
       "      <th>number</th>\n",
       "      <th>date</th>\n",
       "      <th>reason</th>\n",
       "      <th>content</th>\n",
       "    </tr>\n",
       "  </thead>\n",
       "  <tbody>\n",
       "    <tr>\n",
       "      <th>0</th>\n",
       "      <td>726</td>\n",
       "      <td>臺灣台北地方法院 裁判書 -- 民事類</td>\n",
       "      <td>臺灣台北地方法院 103 年婚字第 390 號民事判決</td>\n",
       "      <td>105.02.19</td>\n",
       "      <td>離婚等</td>\n",
       "      <td>臺灣臺北地方法院民事判決103年度婚字第390號原告蕭永崑訴訟代理人連1鴻律師被告彭宜慧訴訟...</td>\n",
       "    </tr>\n",
       "    <tr>\n",
       "      <th>1</th>\n",
       "      <td>727</td>\n",
       "      <td>臺灣台北地方法院 裁判書 -- 民事類</td>\n",
       "      <td>臺灣台北地方法院 104 年婚字第 236 號民事其他</td>\n",
       "      <td>104.10.30</td>\n",
       "      <td>離婚</td>\n",
       "      <td>臺灣臺北地方法院裁判書--民事類【裁判字號】104,婚,236【裁判日期】1041030【裁...</td>\n",
       "    </tr>\n",
       "    <tr>\n",
       "      <th>2</th>\n",
       "      <td>728</td>\n",
       "      <td>臺灣台北地方法院 裁判書 -- 民事類</td>\n",
       "      <td>臺灣台北地方法院 103 年婚字第 229 號民事判決</td>\n",
       "      <td>104.10.23</td>\n",
       "      <td>離婚等</td>\n",
       "      <td>臺灣臺北地方法院民事判決103年度婚字第229號原告林貞靜被告晏世豪上列當事人間請求離婚等事...</td>\n",
       "    </tr>\n",
       "    <tr>\n",
       "      <th>3</th>\n",
       "      <td>729</td>\n",
       "      <td>臺灣台北地方法院 裁判書 -- 民事類</td>\n",
       "      <td>臺灣台北地方法院 103 年婚字第 386 號民事判決</td>\n",
       "      <td>104.04.10</td>\n",
       "      <td>離婚等</td>\n",
       "      <td>臺灣臺北地方法院民事判決103年度婚字第386號原告顏承濬訴訟代理人吳妙白律師被告顏耶咪（E...</td>\n",
       "    </tr>\n",
       "    <tr>\n",
       "      <th>4</th>\n",
       "      <td>730</td>\n",
       "      <td>臺灣台北地方法院 裁判書 -- 民事類</td>\n",
       "      <td>臺灣台北地方法院 102 年婚字第 351 號民事其他</td>\n",
       "      <td>104.01.30</td>\n",
       "      <td>離婚等</td>\n",
       "      <td>臺灣臺北地方法院裁判書--民事類【裁判字號】102,婚,351【裁判日期】1040130【裁...</td>\n",
       "    </tr>\n",
       "  </tbody>\n",
       "</table>\n",
       "</div>"
      ],
      "text/plain": [
       "    Id                court                       number       date reason  \\\n",
       "0  726  臺灣台北地方法院 裁判書 -- 民事類  臺灣台北地方法院 103 年婚字第 390 號民事判決  105.02.19    離婚等   \n",
       "1  727  臺灣台北地方法院 裁判書 -- 民事類  臺灣台北地方法院 104 年婚字第 236 號民事其他  104.10.30     離婚   \n",
       "2  728  臺灣台北地方法院 裁判書 -- 民事類  臺灣台北地方法院 103 年婚字第 229 號民事判決  104.10.23    離婚等   \n",
       "3  729  臺灣台北地方法院 裁判書 -- 民事類  臺灣台北地方法院 103 年婚字第 386 號民事判決  104.04.10    離婚等   \n",
       "4  730  臺灣台北地方法院 裁判書 -- 民事類  臺灣台北地方法院 102 年婚字第 351 號民事其他  104.01.30    離婚等   \n",
       "\n",
       "                                             content  \n",
       "0  臺灣臺北地方法院民事判決103年度婚字第390號原告蕭永崑訴訟代理人連1鴻律師被告彭宜慧訴訟...  \n",
       "1  臺灣臺北地方法院裁判書--民事類【裁判字號】104,婚,236【裁判日期】1041030【裁...  \n",
       "2  臺灣臺北地方法院民事判決103年度婚字第229號原告林貞靜被告晏世豪上列當事人間請求離婚等事...  \n",
       "3  臺灣臺北地方法院民事判決103年度婚字第386號原告顏承濬訴訟代理人吳妙白律師被告顏耶咪（E...  \n",
       "4  臺灣臺北地方法院裁判書--民事類【裁判字號】102,婚,351【裁判日期】1040130【裁...  "
      ]
     },
     "execution_count": 3,
     "metadata": {},
     "output_type": "execute_result"
    }
   ],
   "source": [
    "df.head()"
   ]
  },
  {
   "cell_type": "markdown",
   "metadata": {},
   "source": [
    "### 分類駁回判決"
   ]
  },
  {
   "cell_type": "code",
   "execution_count": 4,
   "metadata": {
    "collapsed": true
   },
   "outputs": [],
   "source": [
    "reject_id = []\n",
    "for i,k in list(zip(df['content'],df['Id'])):\n",
    "    if '主文原告之訴駁回' in i:\n",
    "        reject_id.append(k)\n",
    "    elif \"主文原告之訴及假執行之聲請均駁回\" in i:\n",
    "        reject_id.append(k)"
   ]
  },
  {
   "cell_type": "code",
   "execution_count": 5,
   "metadata": {
    "collapsed": false
   },
   "outputs": [
    {
     "data": {
      "text/plain": [
       "526"
      ]
     },
     "execution_count": 5,
     "metadata": {},
     "output_type": "execute_result"
    }
   ],
   "source": [
    "# 共有526篇篇駁回\n",
    "len(reject_id)"
   ]
  },
  {
   "cell_type": "code",
   "execution_count": 5,
   "metadata": {
    "collapsed": false
   },
   "outputs": [
    {
     "data": {
      "text/plain": [
       "[726, 727, 734, 742, 744, 746, 757, 761, 762, 763]"
      ]
     },
     "execution_count": 5,
     "metadata": {},
     "output_type": "execute_result"
    }
   ],
   "source": [
    "reject_id[0:10]"
   ]
  },
  {
   "cell_type": "code",
   "execution_count": 6,
   "metadata": {
    "collapsed": true
   },
   "outputs": [],
   "source": [
    "judgment = []\n",
    "for i in df['Id']:\n",
    "    if i in reject_id:\n",
    "        judgment.append(\"駁回\")\n",
    "    else:\n",
    "        judgment.append(\"准許\")"
   ]
  },
  {
   "cell_type": "code",
   "execution_count": 7,
   "metadata": {
    "collapsed": false
   },
   "outputs": [
    {
     "data": {
      "text/plain": [
       "526"
      ]
     },
     "execution_count": 7,
     "metadata": {},
     "output_type": "execute_result"
    }
   ],
   "source": [
    "judgment.count(\"駁回\")"
   ]
  },
  {
   "cell_type": "code",
   "execution_count": 8,
   "metadata": {
    "collapsed": false
   },
   "outputs": [],
   "source": [
    "df2 = pd.concat([df, pd.DataFrame(judgment, columns=['判決'])], axis=1)"
   ]
  },
  {
   "cell_type": "code",
   "execution_count": 10,
   "metadata": {
    "collapsed": false
   },
   "outputs": [],
   "source": [
    "df2.to_excel(\"data/law_清理過3.xlsx\")"
   ]
  },
  {
   "cell_type": "code",
   "execution_count": null,
   "metadata": {
    "collapsed": true
   },
   "outputs": [],
   "source": []
  }
 ],
 "metadata": {
  "kernelspec": {
   "display_name": "Python 3",
   "language": "python",
   "name": "python3"
  },
  "language_info": {
   "codemirror_mode": {
    "name": "ipython",
    "version": 3
   },
   "file_extension": ".py",
   "mimetype": "text/x-python",
   "name": "python",
   "nbconvert_exporter": "python",
   "pygments_lexer": "ipython3",
   "version": "3.6.3"
  }
 },
 "nbformat": 4,
 "nbformat_minor": 2
}
