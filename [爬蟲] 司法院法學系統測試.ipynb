{
 "cells": [
  {
   "cell_type": "code",
   "execution_count": 1,
   "metadata": {
    "collapsed": true
   },
   "outputs": [],
   "source": [
    "from selenium import webdriver\n",
    "driver = webdriver.Chrome(executable_path='/Users/andy/anaconda/selenium/chromedriver')\n",
    "driver.get(\"https://law.judicial.gov.tw/FJUD/default_AD.aspx\")"
   ]
  },
  {
   "cell_type": "code",
   "execution_count": 2,
   "metadata": {
    "collapsed": true
   },
   "outputs": [],
   "source": [
    "# 篩選要找的法案\n",
    "driver.find_element_by_xpath('//*[@id=\"jud_court\"]/option[1]').click()\n",
    "driver.find_element_by_xpath('//*[@id=\"jud_court\"]/option[18]').click()\n",
    "driver.find_element_by_xpath('//*[@id=\"jud_title\"]').send_keys('離婚')\n",
    "driver.find_element_by_xpath('//*[@id=\"jud_kw\"]').send_keys('家暴+保護令')\n",
    "driver.find_element_by_xpath('//*[@id=\"btnQry\"]').click()"
   ]
  },
  {
   "cell_type": "code",
   "execution_count": 4,
   "metadata": {
    "collapsed": false
   },
   "outputs": [
    {
     "data": {
      "text/plain": [
       "163"
      ]
     },
     "execution_count": 4,
     "metadata": {},
     "output_type": "execute_result"
    }
   ],
   "source": [
    "# 最多只能篩選500筆.... (新北法院有超過~)\n",
    "max_range = driver.find_element_by_xpath('//*[@id=\"collapseGrpCourt\"]/div/ul/li/a/span').text\n",
    "if int(max_range) > 500:\n",
    "    max_range = 500\n",
    "else:\n",
    "    max_range = int(max_range)\n",
    "max_range"
   ]
  },
  {
   "cell_type": "code",
   "execution_count": 5,
   "metadata": {
    "collapsed": true
   },
   "outputs": [],
   "source": [
    "# 點擊進去法案詳細內容\n",
    "iframe = driver.find_element_by_xpath(\"//iframe[@name='iframe-data']\")\n",
    "driver.switch_to.frame(iframe)\n",
    "driver.find_element_by_xpath('//*[@id=\"hlTitle\"]').click()"
   ]
  },
  {
   "cell_type": "code",
   "execution_count": 6,
   "metadata": {
    "collapsed": true
   },
   "outputs": [],
   "source": [
    "# 找尋文字\n",
    "import re\n",
    "main_text = driver.find_element_by_xpath('//*[@id=\"jud\"]/div[4]/div/table/tbody/tr/td[1]/div').text\n",
    "file_title = driver.find_element_by_xpath('//*[@id=\"jud\"]/div[1]/div[2]').text\n",
    "regex = re.compile(r'(\\d+)')\n",
    "match = regex.findall(file_title)"
   ]
  },
  {
   "cell_type": "code",
   "execution_count": 7,
   "metadata": {
    "collapsed": true
   },
   "outputs": [],
   "source": [
    "# 輸出檔案\n",
    "file = open(\"/Users/andy/Desktop/司法院法學資料判決書/\"+\"A\"+str('M'.join(match))+\".txt\",'w')\n",
    "file.write(main_text)\n",
    "file.close()"
   ]
  },
  {
   "cell_type": "code",
   "execution_count": 8,
   "metadata": {
    "collapsed": true
   },
   "outputs": [],
   "source": [
    "# 下一頁\n",
    "driver.find_element_by_xpath('//*[@id=\"hlNext\"]').click()"
   ]
  },
  {
   "cell_type": "code",
   "execution_count": 9,
   "metadata": {
    "collapsed": true
   },
   "outputs": [],
   "source": [
    "# 回篩選頁面\n",
    "driver.switch_to.default_content()\n",
    "driver.find_element_by_xpath('//*[@id=\"fjud\"]').click()"
   ]
  },
  {
   "cell_type": "code",
   "execution_count": null,
   "metadata": {
    "collapsed": true
   },
   "outputs": [],
   "source": []
  }
 ],
 "metadata": {
  "kernelspec": {
   "display_name": "Python 3",
   "language": "python",
   "name": "python3"
  },
  "language_info": {
   "codemirror_mode": {
    "name": "ipython",
    "version": 3
   },
   "file_extension": ".py",
   "mimetype": "text/x-python",
   "name": "python",
   "nbconvert_exporter": "python",
   "pygments_lexer": "ipython3",
   "version": "3.6.8"
  }
 },
 "nbformat": 4,
 "nbformat_minor": 2
}
