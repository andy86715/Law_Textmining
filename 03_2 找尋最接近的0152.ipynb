{
 "cells": [
  {
   "cell_type": "code",
   "execution_count": 1,
   "metadata": {
    "collapsed": true
   },
   "outputs": [],
   "source": [
    "import pandas as pd\n",
    "df = pd.read_excel(\"data/law_清理過3.xlsx\")"
   ]
  },
  {
   "cell_type": "code",
   "execution_count": 2,
   "metadata": {
    "collapsed": true
   },
   "outputs": [],
   "source": [
    "# 一個以上空白還沒處理\n",
    "df['content'] = df['content'].str.replace(\" \",\"\")\n",
    "df['content'] = df['content'].str.replace(\"一\",\"1\").str.replace(\"二\",\"2\").str.replace(\"三\",\"3\").str.replace(\"四\",\"4\").str.replace(\"五\",\"5\").str.replace(\"六\",\"6\").str.replace(\"七\",\"7\").str.replace(\"八\",\"8\").str.replace(\"九\",\"9\").str.replace(\"零\",\"0\").str.replace(\"○\",\"0\").str.replace(\"１\",\"1\").str.replace(\"５\",'5').str.replace(\"０\",'0')\n",
    "df['content'] = df['content'].str.replace(\"千\",\"\").str.replace(\"十\",\"\").str.replace(\"\\n\",\"\").str.replace(\"\\u3000\",\"\").replace('及',\"\")"
   ]
  },
  {
   "cell_type": "code",
   "execution_count": 3,
   "metadata": {
    "collapsed": true
   },
   "outputs": [],
   "source": [
    "df2 = df[df['判決']==\"准許\"]\n",
    "df2 = df2.reset_index(drop=True)"
   ]
  },
  {
   "cell_type": "code",
   "execution_count": 4,
   "metadata": {
    "collapsed": true
   },
   "outputs": [],
   "source": [
    "import re\n",
    "regex_new = re.compile('([民同]法第1052條第\\d(項|款)((第?\\d+(?:、\\d+)*款?)|以外之重大事由)?)')"
   ]
  },
  {
   "cell_type": "code",
   "execution_count": 5,
   "metadata": {
    "collapsed": true
   },
   "outputs": [],
   "source": [
    "law, law_id = [], []\n",
    "for i,k in list(zip(df2['content'],df2['Id'])):\n",
    "    law_temp = []\n",
    "    match_new = re.findall(regex_new,i)\n",
    "    for a in match_new:\n",
    "        for b in a:\n",
    "            if '1052' in b:\n",
    "                law_temp.append(b)\n",
    "    law.append(law_temp)\n",
    "    law_id.append(k)\n",
    "law1052 = list(zip(law, law_id))"
   ]
  },
  {
   "cell_type": "code",
   "execution_count": 6,
   "metadata": {
    "collapsed": false
   },
   "outputs": [
    {
     "data": {
      "text/plain": [
       "[(['民法第1052條第1項第3款', '民法第1052條第1項第3款', '民法第1052條第1項第3款'], 728),\n",
       " (['民法第1052條第2項', '民法第1052條第1項以外之重大事由', '民法第1052條第2項', '民法第1052條第2項'], 729),\n",
       " (['民法第1052條第1項第2款',\n",
       "   '民法第1052條第1項第3款',\n",
       "   '民法第1052條第1項以外之重大事由',\n",
       "   '民法第1052條第2項',\n",
       "   '民法第1052條第2項',\n",
       "   '民法第1052條第2項',\n",
       "   '民法第1052條第1項第2款',\n",
       "   '民法第1052條第1項第3款',\n",
       "   '民法第1052條第2項'],\n",
       "  730)]"
      ]
     },
     "execution_count": 6,
     "metadata": {},
     "output_type": "execute_result"
    }
   ],
   "source": [
    "law1052[0:3]"
   ]
  },
  {
   "cell_type": "markdown",
   "metadata": {},
   "source": [
    "### 最接近的字詞"
   ]
  },
  {
   "cell_type": "markdown",
   "metadata": {},
   "source": [
    "找到兩者的position，在比較"
   ]
  },
  {
   "cell_type": "code",
   "execution_count": 7,
   "metadata": {
    "collapsed": true
   },
   "outputs": [],
   "source": [
    "judge_word = [\"判准\",\"准許\",\"自屬有據\",\"即有理由\",\"准予\",\"既為有理由\"]"
   ]
  },
  {
   "cell_type": "code",
   "execution_count": 40,
   "metadata": {
    "collapsed": false
   },
   "outputs": [
    {
     "data": {
      "text/plain": [
       "[1326, 2255, 5278]"
      ]
     },
     "execution_count": 40,
     "metadata": {},
     "output_type": "execute_result"
    }
   ],
   "source": [
    "[m.start() for m in re.finditer('民法第1052條第1項第3款', df2['content'][0])]"
   ]
  },
  {
   "cell_type": "code",
   "execution_count": 38,
   "metadata": {
    "collapsed": false
   },
   "outputs": [
    {
     "data": {
      "text/plain": [
       "3136"
      ]
     },
     "execution_count": 38,
     "metadata": {},
     "output_type": "execute_result"
    }
   ],
   "source": [
    "# 最後一個字的位置\n",
    "df2['content'][0].rfind('判准')"
   ]
  },
  {
   "cell_type": "code",
   "execution_count": 47,
   "metadata": {
    "collapsed": false,
    "scrolled": false
   },
   "outputs": [
    {
     "name": "stdout",
     "output_type": "stream",
     "text": [
      "1810\n",
      "881\n",
      "2142\n"
     ]
    }
   ],
   "source": [
    "a = [1326, 2255, 5278]\n",
    "b = 3136\n",
    "for i in a:\n",
    "    print(abs(i-b))"
   ]
  },
  {
   "cell_type": "markdown",
   "metadata": {},
   "source": [
    "### Main"
   ]
  },
  {
   "cell_type": "code",
   "execution_count": 95,
   "metadata": {
    "collapsed": false
   },
   "outputs": [
    {
     "name": "stdout",
     "output_type": "stream",
     "text": [
      "民法第1052條第1項以外之重大事由\n",
      "1143\n",
      "民法第1052條第2項\n",
      "377\n"
     ]
    }
   ],
   "source": [
    "number = 1\n",
    "for word in judge_word:\n",
    "    try:\n",
    "        if df2['content'][number].rfind(word) != -1:\n",
    "            # 找出判決詞的位置\n",
    "            index = df2['content'][number].rfind(word)\n",
    "            break\n",
    "    except:\n",
    "        pass\n",
    "    \n",
    "# 進行法條位置與判決詞距離位置的比對\n",
    "for law in set(law1052[number][0]):\n",
    "    print(law)\n",
    "    min_temp = []\n",
    "    for i in [m.start() for m in re.finditer(law, df2['content'][number])]:\n",
    "        min_temp.append(abs(i-index))\n",
    "    print(min(min_temp))\n",
    "    \n",
    "    "
   ]
  },
  {
   "cell_type": "code",
   "execution_count": 94,
   "metadata": {
    "collapsed": false
   },
   "outputs": [
    {
     "data": {
      "text/plain": [
       "377"
      ]
     },
     "execution_count": 94,
     "metadata": {},
     "output_type": "execute_result"
    }
   ],
   "source": [
    "min(min_temp)"
   ]
  }
 ],
 "metadata": {
  "kernelspec": {
   "display_name": "Python 3",
   "language": "python",
   "name": "python3"
  },
  "language_info": {
   "codemirror_mode": {
    "name": "ipython",
    "version": 3
   },
   "file_extension": ".py",
   "mimetype": "text/x-python",
   "name": "python",
   "nbconvert_exporter": "python",
   "pygments_lexer": "ipython3",
   "version": "3.6.3"
  }
 },
 "nbformat": 4,
 "nbformat_minor": 2
}
